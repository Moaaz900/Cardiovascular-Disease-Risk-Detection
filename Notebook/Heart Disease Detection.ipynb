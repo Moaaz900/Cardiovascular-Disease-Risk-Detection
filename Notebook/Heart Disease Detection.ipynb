{
 "cells": [
  {
   "cell_type": "code",
   "execution_count": 59,
   "metadata": {},
   "outputs": [],
   "source": [
    "# importing some basic libraries\n",
    "import csv\n",
    "import pandas as pd\n",
    "import random\n",
    "\n",
    "\n",
    "%matplotlib inline\n",
    "import matplotlib.pyplot as plt\n",
    "from matplotlib import style\n",
    "style.use('ggplot')\n",
    "import numpy as np\n",
    "from sklearn.model_selection import train_test_split\n",
    "import seaborn as sn\n",
    "from sklearn.metrics import confusion_matrix\n",
    "from sklearn import metrics\n"
   ]
  },
  {
   "cell_type": "markdown",
   "metadata": {},
   "source": [
    "# DataSet Loading & shuffling"
   ]
  },
  {
   "cell_type": "code",
   "execution_count": 322,
   "metadata": {},
   "outputs": [],
   "source": [
    "df = pd.read_csv(\"heart.csv\")\n",
    "# print(df.head())\n",
    "\n",
    "#drop some features\n",
    "# df = df.drop(columns = ['cp', 'thal', 'slope','sex','fbs','restecg','exang','ca','oldpeak','age','trestbps'])\n",
    " \n",
    "no_samples , no_features  = df.to_numpy().shape\n",
    "samples  = df.to_numpy()\n",
    "samplesindices = []\n",
    "for e in range(no_samples):\n",
    "    samplesindices.append(e)\n",
    "    \n",
    "random.shuffle(samplesindices) \n",
    "# print(samples.shape)\n",
    "ShuffeledSamples =samples\n",
    "counter = 0\n",
    "y_data = samples\n",
    "for i in range(13):\n",
    "    y_data = np.delete(y_data, 0,1) \n",
    "\n",
    "\n",
    "\n",
    "for e in samplesindices:\n",
    "    \n",
    "    if samples[e][13] == 0:\n",
    "        y_data[counter] = -1\n",
    "    else:\n",
    "        y_data[counter] = 1\n",
    "            \n",
    "    ShuffeledSamples[counter]=samples[e]\n",
    "    counter +=1\n",
    "# print(ShuffeledSamples.shape)\n",
    "samples = ShuffeledSamples\n",
    "x_data = np.delete(samples, 13,1)  \n",
    " \n"
   ]
  },
  {
   "cell_type": "markdown",
   "metadata": {},
   "source": [
    "# DataSet  splitting & preparing"
   ]
  },
  {
   "cell_type": "code",
   "execution_count": 323,
   "metadata": {},
   "outputs": [
    {
     "name": "stdout",
     "output_type": "stream",
     "text": [
      "60\n",
      "120\n"
     ]
    }
   ],
   "source": [
    "test_size_present = 0.2 \n",
    "testing_size = int(x_data.shape[0] * test_size_present)\n",
    "testCaseNo =2 # from 0 to 4 for 5 experiments for each shufffle \n",
    "\n",
    "\n",
    "\n",
    "testing_start_index = testing_size*int(testCaseNo)\n",
    "\n",
    "\n",
    "x_test = x_data[testing_start_index:testing_start_index+testing_size] \n",
    "y_test = y_data[testing_start_index:testing_start_index+testing_size]\n",
    "\n",
    "\n",
    "\n",
    "if testing_start_index == 0 :         \n",
    "   \n",
    "    x_train = x_data[testing_start_index+testing_size:]   \n",
    "    y_train = y_data[testing_start_index+testing_size:] \n",
    "    \n",
    "elif testing_start_index+testing_size == x_data.shape[0]: \n",
    "    \n",
    "    x_train = x_data[:testing_start_index]   \n",
    "    y_train = y_data[:testing_start_index] \n",
    "    \n",
    "else : \n",
    "    x_train = x_data[:testing_start_index]   \n",
    "    y_train = y_data[:testing_start_index] \n",
    "    \n",
    "    x_train=np.append(x_train,x_data[testing_start_index+testing_size:], axis = 0) \n",
    "    y_train =np.append(y_train,y_data[testing_start_index+testing_size:], axis = 0) \n",
    "\n",
    "print(testing_size) \n",
    "print(testing_start_index)\n",
    "# x_train = x_train.T\n",
    "# print(x_train)\n",
    "# y_train = y_train.T\n",
    "# x_test = x_test.T\n",
    "# y_test = y_test.T "
   ]
  },
  {
   "cell_type": "markdown",
   "metadata": {},
   "source": [
    "# LogisticRegression"
   ]
  },
  {
   "cell_type": "code",
   "execution_count": 324,
   "metadata": {},
   "outputs": [
    {
     "name": "stdout",
     "output_type": "stream",
     "text": [
      "LogisticRegression Test Accuracy 86.67%\n"
     ]
    },
    {
     "name": "stderr",
     "output_type": "stream",
     "text": [
      "C:\\Users\\engah\\Anaconda3\\lib\\site-packages\\sklearn\\linear_model\\logistic.py:432: FutureWarning: Default solver will be changed to 'lbfgs' in 0.22. Specify a solver to silence this warning.\n",
      "  FutureWarning)\n",
      "C:\\Users\\engah\\Anaconda3\\lib\\site-packages\\sklearn\\utils\\validation.py:724: DataConversionWarning: A column-vector y was passed when a 1d array was expected. Please change the shape of y to (n_samples, ), for example using ravel().\n",
      "  y = column_or_1d(y, warn=True)\n"
     ]
    }
   ],
   "source": [
    "from sklearn.linear_model import LogisticRegression \n",
    "lr = LogisticRegression()\n",
    "lr.fit(x_train,y_train)\n",
    "lr_acc = lr.score(x_test,y_test)*100\n",
    " \n",
    "print(\"LogisticRegression Test Accuracy {:.2f}%\".format(lr_acc))"
   ]
  },
  {
   "cell_type": "markdown",
   "metadata": {},
   "source": [
    "# Support Vector Machine #1"
   ]
  },
  {
   "cell_type": "code",
   "execution_count": 326,
   "metadata": {},
   "outputs": [
    {
     "name": "stdout",
     "output_type": "stream",
     "text": [
      "b =  [2.80585133]\n",
      "poly SVC Test Accuracy : 85.00%\n"
     ]
    },
    {
     "name": "stderr",
     "output_type": "stream",
     "text": [
      "C:\\Users\\engah\\Anaconda3\\lib\\site-packages\\sklearn\\utils\\validation.py:724: DataConversionWarning: A column-vector y was passed when a 1d array was expected. Please change the shape of y to (n_samples, ), for example using ravel().\n",
      "  y = column_or_1d(y, warn=True)\n"
     ]
    }
   ],
   "source": [
    "from sklearn.svm import SVC\n",
    "\n",
    "polysvm = SVC(kernel='poly', degree=1,gamma='auto') \n",
    "polysvm.fit(x_train, y_train)  \n",
    "print('b = ',polysvm.intercept_) \n",
    "\n",
    "polysvm_acc = polysvm.score(x_test,y_test)*100 \n",
    "print(\"poly SVC Test Accuracy : {:.2f}%\".format(polysvm_acc))\n",
    "\n",
    "# svm = SVC(random_state = 1,gamma='auto') \n",
    "# svm.fit(x_train.T, y_train.T) \n",
    "# acc = svm.score(x_test.T,y_test.T)*100 \n",
    "# print(\"line Test Accuracy : {:.2f}%\".format(acc))\n",
    "\n",
    "# svm = SVC(kernel='rbf',gamma='auto') \n",
    "# svm.fit(x_train.T, y_train.T) \n",
    "# acc = svm.score(x_test.T,y_test.T)*100 \n",
    "# print(\"rbf Test Accuracy : {:.2f}%\".format(acc))\n",
    "\n",
    "\n",
    "# svm = SVC(kernel='sigmoid',gamma='auto')\n",
    "# svm.fit(x_train.T, y_train.T)\n",
    "# acc = svm.score(x_test.T,y_test.T)*100 \n",
    "# print(\"sigmoid Test Accuracy : {:.2f}%\".format(acc))\n",
    "\n",
    "\n"
   ]
  },
  {
   "cell_type": "markdown",
   "metadata": {},
   "source": [
    "# Support Vector Machine #2"
   ]
  },
  {
   "cell_type": "code",
   "execution_count": 327,
   "metadata": {},
   "outputs": [],
   "source": [
    "from __future__ import division, print_function\n",
    "import numpy as np\n",
    "import cvxopt\n",
    "# from mlfromscratch.utils import train_test_split, normalize, accuracy_score\n",
    "# from mlfromscratch.utils.kernels import *\n",
    "# from mlfromscratch.utils import Plot\n",
    "\n",
    "# Hide cvxopt output\n",
    "cvxopt.solvers.options['show_progress'] = False\n",
    "\n",
    "def polynomial_kernel(power, coef, **kwargs):\n",
    "        def f(x1, x2):\n",
    "            return (np.inner(x1, x2) + coef)**power\n",
    "        return f\n",
    "\n",
    "class SupportVectorMachine(object):\n",
    "    \n",
    "    def __init__(self, C=1, kernel=polynomial_kernel, power=1, gamma=False, coef=0):\n",
    "        self.C = C\n",
    "        self.kernel = kernel\n",
    "        self.power = power\n",
    "        self.gamma = gamma\n",
    "        self.coef = coef\n",
    "        self.lagr_multipliers = None\n",
    "        self.support_vectors = None\n",
    "        self.support_vector_labels = None\n",
    "        self.intercept = None\n",
    "\n",
    "    def fit(self, X, y):\n",
    "        \n",
    "        n_samples, n_features = np.shape(X)\n",
    "        \n",
    "        # Set gamma to 1/n_features by default\n",
    "        if not self.gamma:\n",
    "            self.gamma = 1 / n_features\n",
    "        \n",
    "        # Initialize kernel method with parameters\n",
    "        self.kernel = self.kernel(\n",
    "            power=self.power,\n",
    "            gamma=self.gamma,\n",
    "            coef=self.coef)\n",
    "                \n",
    "        # Calculate kernel matrix\n",
    "        kernel_matrix = np.zeros((n_samples, n_samples))\n",
    "        for i in range(n_samples):\n",
    "            for j in range(n_samples):\n",
    "                kernel_matrix[i, j] = self.kernel(X[i], X[j])\n",
    "\n",
    "        # Define the quadratic optimization problem\n",
    "        P = cvxopt.matrix(np.outer(y, y) * kernel_matrix, tc='d')\n",
    "        q = cvxopt.matrix(np.ones(n_samples) * -1)\n",
    "        A = cvxopt.matrix(y, (1, n_samples), tc='d')\n",
    "        b = cvxopt.matrix(0, tc='d')\n",
    "        \n",
    "        \n",
    "        if not self.C:\n",
    "            G = cvxopt.matrix(np.identity(n_samples) * -1)\n",
    "            h = cvxopt.matrix(np.zeros(n_samples))\n",
    "        else:\n",
    "            G_max = np.identity(n_samples) * -1\n",
    "            G_min = np.identity(n_samples)\n",
    "            G = cvxopt.matrix(np.vstack((G_max, G_min)))\n",
    "            h_max = cvxopt.matrix(np.zeros(n_samples))\n",
    "            h_min = cvxopt.matrix(np.ones(n_samples) * self.C)\n",
    "            h = cvxopt.matrix(np.vstack((h_max, h_min)))  \n",
    "        # Solve the quadratic optimization problem using cvxopt\n",
    "        minimization = cvxopt.solvers.qp(P, q, G, h, A, b)\n",
    "#         print(minimization['x'])\n",
    "        # Lagrange multipliers\n",
    "        lagr_mult = np.ravel(minimization['x'])\n",
    "#         print(lagr_mult)\n",
    "        # Extract support vectors\n",
    "        # Get indexes of non-zero lagr. multipiers\n",
    "        idx = lagr_mult > 1e-13\n",
    "        \n",
    "#         print(idx)\n",
    "        \n",
    "        # Get the corresponding lagr. multipliers\n",
    "        self.lagr_multipliers = lagr_mult[idx]\n",
    "        # Get the samples that will act as support vectors\n",
    "        self.support_vectors = X[idx]\n",
    "        # Get the corresponding labels\n",
    "        self.support_vector_labels = y[idx]\n",
    "        \n",
    "#         print(self.support_vectors)\n",
    "#         print(self.support_vector_labels)\n",
    "\n",
    "        # Calculate intercept with first support vector\n",
    "        self.intercept = self.support_vector_labels[0]\n",
    "        for i in range(len(self.lagr_multipliers)):\n",
    "            self.intercept -= self.lagr_multipliers[i] * self.support_vector_labels[\n",
    "                i] * self.kernel(self.support_vectors[i], self.support_vectors[0])\n",
    "\n",
    "    def predict(self, X):\n",
    "        y_pred = []\n",
    "        # Iterate through list of samples and make predictions\n",
    "        for sample in X:\n",
    "            prediction = 0\n",
    "            # Determine the label of the sample by the support vectors\n",
    "            for i in range(len(self.lagr_multipliers)):\n",
    "                prediction += self.lagr_multipliers[i] * self.support_vector_labels[\n",
    "                    i] * self.kernel(self.support_vectors[i], sample)\n",
    "            prediction += self.intercept\n",
    "            y_pred.append(np.sign(prediction))\n",
    "        return np.array(y_pred)"
   ]
  },
  {
   "cell_type": "markdown",
   "metadata": {},
   "source": [
    "UnitTest\n"
   ]
  },
  {
   "cell_type": "code",
   "execution_count": 232,
   "metadata": {},
   "outputs": [
    {
     "name": "stdout",
     "output_type": "stream",
     "text": [
      "-1\n",
      "1\n"
     ]
    }
   ],
   "source": [
    "polysvm_from_sc = SupportVectorMachine() \n",
    "X = np.array([[-1, -1], [-2, -1], [1, 1], [2, 1]])\n",
    "y = np.array([-1, -1, 1, 1]) \n",
    "polysvm_from_sc.fit(X, y)\n",
    "print(int(polysvm_from_sc.predict([[-0.8, -1]])))\n",
    "print(int(polysvm_from_sc.predict([[2, 1]])))"
   ]
  },
  {
   "cell_type": "code",
   "execution_count": 328,
   "metadata": {},
   "outputs": [
    {
     "name": "stdout",
     "output_type": "stream",
     "text": [
      "# Support Vector Machine #2 Test Accuracy 31.67%\n"
     ]
    }
   ],
   "source": [
    "polysvm_from_sc = SupportVectorMachine() \n",
    "polysvm_from_sc.fit(x_train , y_train) \n",
    " \n",
    "#testing\n",
    "prediected= polysvm_from_sc.predict(x_test)\n",
    "\n",
    "# print(prediected)\n",
    "res = confusion_matrix(y_test, prediected,[1,-1])\n",
    "polysvm_from_sc_acc = metrics.accuracy_score(y_test, prediected)*100 \n",
    " \n",
    "print(\"# Support Vector Machine #2 Test Accuracy {:.2f}%\".format((polysvm_from_sc_acc)))"
   ]
  },
  {
   "cell_type": "markdown",
   "metadata": {},
   "source": [
    "# DecisionTree"
   ]
  },
  {
   "cell_type": "code",
   "execution_count": 329,
   "metadata": {},
   "outputs": [
    {
     "name": "stdout",
     "output_type": "stream",
     "text": [
      "Decision Tree Test Accuracy 93.33%\n"
     ]
    }
   ],
   "source": [
    "from sklearn.tree import DecisionTreeClassifier\n",
    "dtc = DecisionTreeClassifier()\n",
    "dtc.fit(x_train, y_train)\n",
    "\n",
    "dtc_acc = dtc.score(x_test, y_test)*100 \n",
    "print(\"Decision Tree Test Accuracy {:.2f}%\".format(dtc_acc))"
   ]
  },
  {
   "cell_type": "markdown",
   "metadata": {},
   "source": [
    "# KNN"
   ]
  },
  {
   "cell_type": "code",
   "execution_count": 330,
   "metadata": {},
   "outputs": [
    {
     "name": "stdout",
     "output_type": "stream",
     "text": [
      "knn classifier Accuracy: 78.33\n"
     ]
    },
    {
     "name": "stderr",
     "output_type": "stream",
     "text": [
      "C:\\Users\\engah\\Anaconda3\\lib\\site-packages\\ipykernel_launcher.py:9: DataConversionWarning: A column-vector y was passed when a 1d array was expected. Please change the shape of y to (n_samples, ), for example using ravel().\n",
      "  if __name__ == '__main__':\n"
     ]
    }
   ],
   "source": [
    "from sklearn.preprocessing import StandardScaler\n",
    "from sklearn.neighbors import KNeighborsClassifier\n",
    "\n",
    "# sc_X = StandardScaler()\n",
    "# x_train = sc_X.fit_transform(x_train)\n",
    "# x_test = sc_X.transform(x_test)\n",
    "\n",
    "knnclassifier = KNeighborsClassifier(n_neighbors = 5, metric = 'minkowski', p = 2)\n",
    "knnclassifier.fit(x_train,y_train)\n",
    "\n",
    "y_pred = knnclassifier.predict(x_test)\n",
    "#check accuracy\n",
    "knnclassifier_acc = metrics.accuracy_score(y_test, y_pred)*100\n",
    "print('knn classifier Accuracy: {:.2f}'.format(knnclassifier_acc))"
   ]
  },
  {
   "cell_type": "markdown",
   "metadata": {},
   "source": [
    "# mixed_naive_bayes"
   ]
  },
  {
   "cell_type": "code",
   "execution_count": 331,
   "metadata": {},
   "outputs": [
    {
     "name": "stdout",
     "output_type": "stream",
     "text": [
      "[2 4 2 3 2 3 5 4]\n",
      "Mixed Naive Bayes model accuracy: 78.33333333333333\n"
     ]
    }
   ],
   "source": [
    "from mixed_naive_bayes import MixedNB\n",
    "modelMixedNB = MixedNB(categorical_features=[1,2,5,6,8,10,11,12]) #index of categories and discrete columns \n",
    "y_temp = []\n",
    "for e in y_train :\n",
    "    if  e[0] == -1 :\n",
    "        newlabel = 0 \n",
    "    else :\n",
    "        newlabel = 1\n",
    "    y_temp.append(newlabel)\n",
    "modelMixedNB.fit(x_train,y_temp)\n",
    "# making predictions on the training set \n",
    "y_pred = modelMixedNB.predict(x_test) \n",
    "\n",
    "y_test_new_label = []\n",
    "for e in y_test :\n",
    "    if  e[0] == -1 :\n",
    "        newlabel = 0 \n",
    "    else :\n",
    "        newlabel = 1\n",
    "    y_test_new_label.append(newlabel)\n",
    "modelMixedNB_acc = metrics.accuracy_score(y_test_new_label, y_pred)*100   \n",
    "print(\"Mixed Naive Bayes model accuracy:\", modelMixedNB_acc)\n",
    "# plt.figure(figsize=(8,8))\n",
    "# cm=confusion_matrix(y_train,y_pred_train)\n",
    "# sns.heatmap(cm,annot=True,cmap=\"Blues\")\n",
    "# plt.title(\"confusion matrix train data\")\n",
    "# plt.show()\n",
    "# # making predictions on the testing set \n",
    "# y_pred_test = model.predict(X_test) \n",
    "# # comparing actual response values (y_test) with predicted response values (y_pred) \n",
    "# print(\"Mixed Naive Bayes model test accuracy:\", accuracy_score(y_test, y_pred_test)*100,\"%\")\n",
    "# plt.figure(figsize=(8,8))\n",
    "# cm=confusion_matrix(y_test,y_pred_test)\n",
    "# sns.heatmap(cm,annot=True,cmap=\"Blues\")\n",
    "# plt.title(\"confusion matrix test data\")\n",
    "# plt.show()"
   ]
  },
  {
   "cell_type": "markdown",
   "metadata": {},
   "source": [
    "# Testing and composing the results"
   ]
  },
  {
   "cell_type": "code",
   "execution_count": 332,
   "metadata": {},
   "outputs": [
    {
     "name": "stdout",
     "output_type": "stream",
     "text": [
      "2\n",
      "LogisticRegression Test Accuracy 86.67%\n",
      "Decision Tree Test Accuracy 93.33%\n",
      "poly SVC Test Accuracy : 85.00%\n",
      "# Support Vector Machine #2 Test Accuracy 31.67%\n",
      "knn classifier Accuracy: 78.33\n",
      "Mixed Naive Bayes model accuracy: 78.33333333333333\n",
      "---------------\n",
      "Total Accuracy :85.24590163934425\n"
     ]
    },
    {
     "data": {
      "image/png": "[encoded data removed]",
      "text/plain": [
       "<Figure size 288x288 with 2 Axes>"
      ]
     },
     "metadata": {},
     "output_type": "display_data"
    }
   ],
   "source": [
    "print(testCaseNo)\n",
    "print(\"LogisticRegression Test Accuracy {:.2f}%\".format(lr_acc))\n",
    "print(\"Decision Tree Test Accuracy {:.2f}%\".format(dtc_acc))\n",
    "print(\"poly SVC Test Accuracy : {:.2f}%\".format(polysvm_acc))\n",
    "print(\"# Support Vector Machine #2 Test Accuracy {:.2f}%\".format((polysvm_from_sc_acc)))\n",
    "print('knn classifier Accuracy: {:.2f}'.format(knnclassifier_acc))\n",
    "print(\"Mixed Naive Bayes model accuracy:\", modelMixedNB_acc)\n",
    "prediected = []\n",
    "result={1 : 0 , -1 : 0}\n",
    "\n",
    "for test in x_test :   \n",
    "    result[dtc.predict([test])[0]] +=1 \n",
    "    result[polysvm.predict([test])[0]] +=1\n",
    "    result[lr.predict([test])[0]] +=1     \n",
    "    result[int(polysvm_from_sc.predict([test])[0])] +=1\n",
    "    result[int(knnclassifier.predict([test])[0])] +=1\n",
    "    \n",
    "    modelMixedNBres =  int(modelMixedNB.predict([test])[0])\n",
    "    if modelMixedNBres == 0 :\n",
    "        modelMixedNBres = -1 \n",
    "    result[modelMixedNBres] +=1 \n",
    "    \n",
    "    if  result[-1] >= result[1] :\n",
    "        prediected.append(-1)\n",
    "    else:\n",
    "        prediected.append(1)\n",
    "        \n",
    "    result={1 : 0 , -1 : 0}  \n",
    "    \n",
    "labels=[1,-1]    \n",
    "data = confusion_matrix(y_test, prediected,labels)\n",
    "# print(data)\n",
    "# print(y_test.T)\n",
    "# print(prediected) \n",
    "print(\"---------------\"  )\n",
    "print(\"Total Accuracy :\" + str((data[0][0]+data[1][1])/61*100) )\n",
    "df_cm = pd.DataFrame(data, columns=np.unique(labels), index = np.unique(labels))\n",
    "df_cm.index.name = 'Actual Labels';\n",
    "df_cm.columns.name = 'Predicted Labels';\n",
    "plt.figure(figsize = (4,4));\n",
    " \n",
    "plot = sn.heatmap(df_cm, cmap=\"Reds\", annot=True, annot_kws={\"size\": 16});\n",
    "plot_img = plot.get_figure();\n"
   ]
  },
  {
   "cell_type": "markdown",
   "metadata": {},
   "source": [
    "# Final Results"
   ]
  },
  {
   "attachments": {
    "Capture.PNG": {
     "image/png": "[encoded data removed]"
    }
   },
   "cell_type": "markdown",
   "metadata": {},
   "source": [
    "![Capture.PNG](attachment:Capture.PNG)"
   ]
  }
 ],
 "metadata": {
  "kernelspec": {
   "display_name": "Python 3",
   "language": "python",
   "name": "python3"
  },
  "language_info": {
   "codemirror_mode": {
    "name": "ipython",
    "version": 3
   },
   "file_extension": ".py",
   "mimetype": "text/x-python",
   "name": "python",
   "nbconvert_exporter": "python",
   "pygments_lexer": "ipython3",
   "version": "3.7.3"
  }
 },
 "nbformat": 4,
 "nbformat_minor": 2
}
